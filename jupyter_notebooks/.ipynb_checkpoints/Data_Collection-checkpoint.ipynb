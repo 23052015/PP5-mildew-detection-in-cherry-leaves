{
 "cells": [
  {
   "cell_type": "markdown",
   "id": "4b8ee2cd-d345-4506-a4d7-a1a7cc0444e6",
   "metadata": {},
   "source": [
    "# Data Collection"
   ]
  },
  {
   "cell_type": "markdown",
   "id": "5352d8ee-74c2-4441-b6f0-b9f7703cc7d0",
   "metadata": {},
   "source": [
    "---"
   ]
  },
  {
   "cell_type": "markdown",
   "id": "9efae0ec-1134-4460-9ece-c85a30811243",
   "metadata": {},
   "source": [
    "## Fetch data from Kaggle "
   ]
  },
  {
   "cell_type": "markdown",
   "id": "0fc6dedd-e890-469d-ab81-036dbf1ef74a",
   "metadata": {},
   "source": [
    "## Objectives\n",
    "The main objectives of this notebook are as follows:\n",
    "\n",
    "1. Download data from Kaggle and save it as raw data for further processing.\n",
    "2. Clean and organize the downloaded data into two equal-sized groups - one for training and one for testing and validation.\n",
    "3. Save the data into the \"input_datasets\" directory.\n",
    "\n",
    "## Inputs\n",
    "The notebook requires the following input:\n",
    "\n",
    "- Kaggle JSON file: This file contains the authentication key for accessing the Kaggle dataset.\n",
    "\n",
    "## Data Description\n",
    "The dataset for this project consists of 4208 images, which are evenly split between two categories:\n",
    "1. Images of healthy cherry leaves.\n",
    "2. Images of cherry leaves infected with powdery mildew.\n",
    "\n",
    "## Outputs\n",
    "The expected outcomes of this notebook are as follows:\n",
    "\n",
    "1. All images will be resized to an appropriate image size for both the healthy and infected groups.\n",
    "2. The dataset will be divided into three sets:\n",
    "   - Training set\n",
    "   - Testing set\n",
    "   - Validation set\n",
    "   \n",
    "The notebook will save the processed data into the \"input_datasets\" directory for further use in the Cherry Leaves Detection model.\n"
   ]
  },
  {
   "cell_type": "markdown",
   "id": "3d6cf43d-a0f6-466b-976c-da0a65b2a2df",
   "metadata": {},
   "source": [
    "### Import packages and libraries"
   ]
  },
  {
   "cell_type": "code",
   "execution_count": null,
   "id": "132eabd1-fa8b-426d-94c2-a4d9d63be924",
   "metadata": {},
   "outputs": [],
   "source": [
    "%pip3 install -r /workspaces/PP5-mildew-detection-in-cherry-leaves/requirements.txt"
   ]
  },
  {
   "cell_type": "code",
   "execution_count": null,
   "id": "bed11b29-9438-40ed-9da3-e1aaba02e28b",
   "metadata": {},
   "outputs": [],
   "source": [
    "import numpy\n",
    "import os"
   ]
  },
  {
   "cell_type": "markdown",
   "id": "e56b81b0-d321-44b1-982c-d9667ce1a23a",
   "metadata": {},
   "source": [
    "### Change the working directory"
   ]
  },
  {
   "cell_type": "code",
   "execution_count": 2,
   "id": "398cebf2-2772-45c5-9edc-958ca4cd24a7",
   "metadata": {},
   "outputs": [
    {
     "ename": "NameError",
     "evalue": "name 'os' is not defined",
     "output_type": "error",
     "traceback": [
      "\u001b[0;31m---------------------------------------------------------------------------\u001b[0m",
      "\u001b[0;31mNameError\u001b[0m                                 Traceback (most recent call last)",
      "Cell \u001b[0;32mIn[2], line 1\u001b[0m\n\u001b[0;32m----> 1\u001b[0m current_dir \u001b[38;5;241m=\u001b[39m \u001b[43mos\u001b[49m\u001b[38;5;241m.\u001b[39mgetcwd()\n",
      "\u001b[0;31mNameError\u001b[0m: name 'os' is not defined"
     ]
    }
   ],
   "source": [
    "current_dir = os.getcwd()\n",
    "current_dir"
   ]
  },
  {
   "cell_type": "code",
   "execution_count": null,
   "id": "3be4491e-2819-4d7a-8bc2-fc621202de4a",
   "metadata": {},
   "outputs": [],
   "source": [
    "os.chdir('/workspaces/PP5-mildew-detection-in-cherry-leaves/')\n",
    "print(\"You set a new current directory\")"
   ]
  },
  {
   "cell_type": "markdown",
   "id": "0a1cf96c-ecda-4aaf-b81b-c06fb83edd8e",
   "metadata": {},
   "source": [
    "##### Confirm the new current directory"
   ]
  },
  {
   "cell_type": "code",
   "execution_count": null,
   "id": "91fc642e-419b-4087-b95d-48b256c841da",
   "metadata": {},
   "outputs": [],
   "source": [
    "current_dir = os.getcwd()\n",
    "current_dir"
   ]
  },
  {
   "cell_type": "markdown",
   "id": "2a8b9a73-5044-4342-80b6-f37f72b870de",
   "metadata": {},
   "source": [
    "### Install Kaggle"
   ]
  },
  {
   "cell_type": "code",
   "execution_count": null,
   "id": "5ba1a37a-e054-450e-a2a4-327bc69fbf4a",
   "metadata": {},
   "outputs": [],
   "source": [
    "%pip3 install kaggle==1.5.12"
   ]
  },
  {
   "cell_type": "markdown",
   "id": "0854a69f-595a-462f-812c-19cedb9a97e2",
   "metadata": {},
   "source": [
    "##### Set Kaggle configuration directory to the current working directory and set permissions for Kaggle authentication JSON"
   ]
  },
  {
   "cell_type": "code",
   "execution_count": null,
   "id": "b107fbb1-be0d-456f-b2d4-e483822cb232",
   "metadata": {},
   "outputs": [],
   "source": [
    "os.environ['KAGGLE_CONFIG_DIR'] = os.getcwd()\n",
    "! chmod 600 kaggle.json"
   ]
  },
  {
   "cell_type": "markdown",
   "id": "d5cee6d4-f88c-49cf-981a-1d8c08e0212c",
   "metadata": {},
   "source": [
    "### Download the dataset"
   ]
  },
  {
   "cell_type": "code",
   "execution_count": 3,
   "id": "3d22c9d3-0522-4239-b584-75f95ae88a04",
   "metadata": {},
   "outputs": [],
   "source": [
    "KaggleDatasetPath = \"codeinstitute/cherry-leaves\"\n",
    "DestinationFolder = \"inputs/cherry_leaves_dataset\"\n",
    "! kaggle datasets download -d {KaggleDatasetPath} -p {DestinationFolder}"
   ]
  },
  {
   "cell_type": "markdown",
   "id": "2db00fec-eabb-41db-8511-beb3e60bf799",
   "metadata": {},
   "source": [
    "##### Unzip and delete the zip file"
   ]
  },
  {
   "cell_type": "code",
   "execution_count": null,
   "id": "9adc288a-9806-49e4-acab-c0b888f6c8f0",
   "metadata": {},
   "outputs": [],
   "source": [
    "import zipfile\n",
    "with zipfile.ZipFile(DestinationFolder + '/cherry-leaves.zip', 'r') as zip_ref:\n",
    "    zip_ref.extractall(DestinationFolder)\n",
    "\n",
    "os.remove(DestinationFolder + '/cherry-leaves.zip')"
   ]
  },
  {
   "cell_type": "markdown",
   "id": "3254e1d5-1f29-4d66-b23a-0485ead30bf6",
   "metadata": {},
   "source": [
    "### Data cleaning and preparation"
   ]
  },
  {
   "cell_type": "markdown",
   "id": "0ad5d67f-8751-4f8f-968d-76716c7e4e93",
   "metadata": {},
   "source": [
    "#### Check for non-img files and remove them"
   ]
  },
  {
   "cell_type": "code",
   "execution_count": null,
   "id": "2244d0f6-3013-4886-89c7-045223508a5a",
   "metadata": {},
   "outputs": [],
   "source": [
    "def remove_non_image_file(my_data_dir):\n",
    "    image_extension = ('.png', '.jpg', '.jpeg')\n",
    "    folders = os.listdir(my_data_dir)\n",
    "    for folder in folders:\n",
    "        files = os.listdir(my_data_dir + '/' + folder)\n",
    "        # print(files)\n",
    "        i = []\n",
    "        j = []\n",
    "        for given_file in files:\n",
    "            if not given_file.lower().endswith(image_extension):\n",
    "                file_location = my_data_dir + '/' + folder + '/' + given_file\n",
    "                os.remove(file_location)  # remove non image file\n",
    "                i.append(1)\n",
    "            else:\n",
    "                j.append(1)\n",
    "                pass\n",
    "        print(f\"Folder: {folder} - has image file\", len(j))\n",
    "        print(f\"Folder: {folder} - has non-image file\", len(i))"
   ]
  },
  {
   "cell_type": "code",
   "execution_count": null,
   "id": "d8bbc1e6-98fe-4c97-8678-99dca85a70cd",
   "metadata": {},
   "outputs": [],
   "source": [
    "remove_non_image_file(my_data_dir='inputs/cherry_leaves_dataset/cherry_leaves')"
   ]
  },
  {
   "cell_type": "markdown",
   "id": "62d36f38-a303-433b-8eba-afbec6186560",
   "metadata": {},
   "source": [
    "### Split data into train, test and validation set"
   ]
  },
  {
   "cell_type": "code",
   "execution_count": null,
   "id": "4620bcc3-6a96-452a-aced-6c4084efa37d",
   "metadata": {},
   "outputs": [],
   "source": [
    "import os\n",
    "import shutil\n",
    "import random\n",
    "import joblib\n",
    "\n",
    "\n",
    "def split_train_validation_test_images(my_data_dir, train_set_ratio, validation_set_ratio, test_set_ratio):\n",
    "\n",
    "    if train_set_ratio + validation_set_ratio + test_set_ratio != 1.0:\n",
    "        print(\"train_set_ratio + validation_set_ratio + test_set_ratio should sum to 1.0\")\n",
    "        return\n",
    "\n",
    "    # gets classes labels\n",
    "    labels = os.listdir(my_data_dir)  # it should get only the folder name\n",
    "    if 'test' in labels:\n",
    "        pass\n",
    "    else:\n",
    "        # create train, test folders with classes labels sub-folder\n",
    "        for folder in ['train', 'validation', 'test']:\n",
    "            for label in labels:\n",
    "                os.makedirs(name=my_data_dir + '/' + folder + '/' + label)\n",
    "\n",
    "        for label in labels:\n",
    "\n",
    "            files = os.listdir(my_data_dir + '/' + label)\n",
    "            random.shuffle(files)\n",
    "\n",
    "            train_set_files_qty = int(len(files) * train_set_ratio)\n",
    "            validation_set_files_qty = int(len(files) * validation_set_ratio)\n",
    "\n",
    "            count = 1\n",
    "            for file_name in files:\n",
    "                if count <= train_set_files_qty:\n",
    "                    # move a given file to the train set\n",
    "                    shutil.move(my_data_dir + '/' + label + '/' + file_name,\n",
    "                                my_data_dir + '/train/' + label + '/' + file_name)\n",
    "\n",
    "                elif count <= (train_set_files_qty + validation_set_files_qty):\n",
    "                    # move a given file to the validation set\n",
    "                    shutil.move(my_data_dir + '/' + label + '/' + file_name,\n",
    "                                my_data_dir + '/validation/' + label + '/' + file_name)\n",
    "\n",
    "                else:\n",
    "                    # move given file to test set\n",
    "                    shutil.move(my_data_dir + '/' + label + '/' + file_name,\n",
    "                                my_data_dir + '/test/' + label + '/' + file_name)\n",
    "\n",
    "                count += 1\n",
    "\n",
    "            os.rmdir(my_data_dir + '/' + label)"
   ]
  },
  {
   "cell_type": "markdown",
   "id": "e66a62e3-272f-425a-8240-e8fa28e114ef",
   "metadata": {},
   "source": [
    "#### Split the dataset into train, validation and test sets (70%-10%-20%)"
   ]
  },
  {
   "cell_type": "code",
   "execution_count": null,
   "id": "62c3fc98-8f46-43ec-a5a5-8d681a209d28",
   "metadata": {},
   "outputs": [],
   "source": [
    "split_train_validation_test_images(my_data_dir=f\"inputs/cherry_leaves_dataset/cherry-leaves\",\n",
    "                                   train_set_ratio=0.7,\n",
    "                                   validation_set_ratio=0.1,\n",
    "                                   test_set_ratio=0.2\n",
    "                                   )"
   ]
  },
  {
   "cell_type": "markdown",
   "id": "e44acd2d-332f-4b8b-8ef1-ba32b90106fb",
   "metadata": {},
   "source": [
    "#### Add, commit and push to github"
   ]
  },
  {
   "cell_type": "code",
   "execution_count": null,
   "id": "004dd246-9d1a-442d-8477-f00ff0cb4795",
   "metadata": {},
   "outputs": [],
   "source": [
    "git add . "
   ]
  },
  {
   "cell_type": "code",
   "execution_count": null,
   "id": "15c811b7-ae30-4002-b4a0-40855aed5f2f",
   "metadata": {},
   "outputs": [],
   "source": [
    "git commit -m \"download clean, prepare and split the dataset\""
   ]
  },
  {
   "cell_type": "code",
   "execution_count": null,
   "id": "bd8c1a6e-dbf0-4c60-ad41-ae7eb7ab5482",
   "metadata": {},
   "outputs": [],
   "source": [
    "git push"
   ]
  },
  {
   "cell_type": "markdown",
   "id": "a9eb563b-1e81-42ce-9615-153d9973e4c4",
   "metadata": {},
   "source": [
    "#### Conclusions\n",
    "- The dataset is downloaded and prepared for further processing\n",
    "- Three different folders have been created each containing train, validation and test images\n"
   ]
  },
  {
   "cell_type": "code",
   "execution_count": null,
   "id": "b1dc2e31-f35a-4a6c-b600-bd586d887391",
   "metadata": {},
   "outputs": [],
   "source": []
  }
 ],
 "metadata": {
  "kernelspec": {
   "display_name": "Python 3 (ipykernel)",
   "language": "python",
   "name": "python3"
  },
  "language_info": {
   "codemirror_mode": {
    "name": "ipython",
    "version": 3
   },
   "file_extension": ".py",
   "mimetype": "text/x-python",
   "name": "python",
   "nbconvert_exporter": "python",
   "pygments_lexer": "ipython3",
   "version": "3.8.12"
  }
 },
 "nbformat": 4,
 "nbformat_minor": 5
}
